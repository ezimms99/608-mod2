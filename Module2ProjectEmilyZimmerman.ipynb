{
 "cells": [
  {
   "cell_type": "markdown",
   "id": "222ed69e-f452-4f3b-a3ed-be8474efc32e",
   "metadata": {},
   "source": [
    "This statement runs an if...elif...else statment. "
   ]
  },
  {
   "cell_type": "code",
   "execution_count": 1,
   "id": "4635abbb-9c66-4a0b-bbb0-4935296832a3",
   "metadata": {
    "tags": []
   },
   "outputs": [
    {
     "name": "stdout",
     "output_type": "stream",
     "text": [
      "B\n"
     ]
    }
   ],
   "source": [
    "grade = 80\n",
    "if grade >=90:\n",
    "    print('A')\n",
    "elif grade >= 80:\n",
    "    print('B')\n",
    "elif grade >= 70:\n",
    "    print('C')\n",
    "elif grade >= 60:\n",
    "    print('D')\n",
    "else:\n",
    "    print('F')"
   ]
  },
  {
   "cell_type": "markdown",
   "id": "a593e20d-1c17-4b51-8444-f4503f4d3a44",
   "metadata": {},
   "source": [
    "This statement demonstrates a while statement. "
   ]
  },
  {
   "cell_type": "code",
   "execution_count": 2,
   "id": "e26f1728-e6c4-4fc8-bc06-82aa80dfa1f5",
   "metadata": {
    "tags": []
   },
   "outputs": [
    {
     "data": {
      "text/plain": [
       "2401"
      ]
     },
     "execution_count": 2,
     "metadata": {},
     "output_type": "execute_result"
    }
   ],
   "source": [
    "product = 7\n",
    "while product <=1000:\n",
    "    product = product * 7\n",
    "product"
   ]
  },
  {
   "cell_type": "markdown",
   "id": "270b02ba-2573-48c5-ac0b-0a4b22413eed",
   "metadata": {},
   "source": [
    "This demonstrates using the end tool to space out the letters in Programming. "
   ]
  },
  {
   "cell_type": "code",
   "execution_count": 3,
   "id": "cb681265-9c72-4e31-92db-2191d030195c",
   "metadata": {},
   "outputs": [
    {
     "name": "stdout",
     "output_type": "stream",
     "text": [
      "P  r  o  g  r  a  m  m  i  n  g  "
     ]
    }
   ],
   "source": [
    "for character in 'Programming':\n",
    "    print(character, end='  ') "
   ]
  },
  {
   "cell_type": "markdown",
   "id": "732c82d8-dc46-4507-8353-2a2e72e96b1c",
   "metadata": {},
   "source": [
    "This print statement shows how to add commas into a printed list. "
   ]
  },
  {
   "cell_type": "code",
   "execution_count": 4,
   "id": "73da372c-addd-4e5c-9a3b-d19546802d45",
   "metadata": {},
   "outputs": [
    {
     "name": "stdout",
     "output_type": "stream",
     "text": [
      "10, 20, 30\n"
     ]
    }
   ],
   "source": [
    "print(10,20,30, sep=', ')"
   ]
  },
  {
   "cell_type": "markdown",
   "id": "34e027a2-bc3e-4fd5-9053-a96dae1addb7",
   "metadata": {},
   "source": [
    "This function shows how to add each number in a list using a for statement. "
   ]
  },
  {
   "cell_type": "code",
   "execution_count": 5,
   "id": "9aa9f58a-d5c4-40d1-a9ed-041099e8436b",
   "metadata": {},
   "outputs": [
    {
     "data": {
      "text/plain": [
       "25"
      ]
     },
     "execution_count": 5,
     "metadata": {},
     "output_type": "execute_result"
    }
   ],
   "source": [
    "total = 0\n",
    "for number in [2, -3, 0, 17, 9]:\n",
    "    total = total + number\n",
    "total"
   ]
  },
  {
   "cell_type": "markdown",
   "id": "cc8af1d1-de9e-46b5-95e8-f78c731261a6",
   "metadata": {},
   "source": [
    "This for statement prints the values in range. "
   ]
  },
  {
   "cell_type": "code",
   "execution_count": 6,
   "id": "36589c33-27d0-4639-b47f-b99647ca083d",
   "metadata": {},
   "outputs": [
    {
     "name": "stdout",
     "output_type": "stream",
     "text": [
      "0 1 2 3 4 5 6 7 8 9 "
     ]
    }
   ],
   "source": [
    "for counter in range(10):\n",
    "    print(counter, end=' ')"
   ]
  },
  {
   "cell_type": "markdown",
   "id": "26ce4293-f263-4963-a3a5-ee79d3c1cd36",
   "metadata": {},
   "source": [
    "This for statement adds all values in range. "
   ]
  },
  {
   "cell_type": "code",
   "execution_count": 7,
   "id": "18fb6a31-38e9-4673-a512-fb1f0f102234",
   "metadata": {},
   "outputs": [
    {
     "data": {
      "text/plain": [
       "500000500000"
      ]
     },
     "execution_count": 7,
     "metadata": {},
     "output_type": "execute_result"
    }
   ],
   "source": [
    "total = 0\n",
    "for number in range(1000001):\n",
    "    total = total + number\n",
    "total"
   ]
  },
  {
   "cell_type": "markdown",
   "id": "50cb7f52-f441-494e-ac56-ac7bf71e729d",
   "metadata": {},
   "source": [
    "This statements demonstrates practice with augmented assignments."
   ]
  },
  {
   "cell_type": "code",
   "execution_count": 8,
   "id": "277d5f65-1506-4e62-a7b9-8355f2ca3c28",
   "metadata": {},
   "outputs": [
    {
     "data": {
      "text/plain": [
       "144"
      ]
     },
     "execution_count": 8,
     "metadata": {},
     "output_type": "execute_result"
    }
   ],
   "source": [
    "x = 12\n",
    "x **= 2\n",
    "x"
   ]
  },
  {
   "cell_type": "markdown",
   "id": "ef7d34e8-22bd-465e-97a7-7ff8a084c117",
   "metadata": {},
   "source": [
    "Below I will practice using f-strings. "
   ]
  },
  {
   "cell_type": "code",
   "execution_count": 9,
   "id": "90328b93-e658-4af3-8002-9620f52a56dc",
   "metadata": {},
   "outputs": [
    {
     "name": "stdout",
     "output_type": "stream",
     "text": [
      "Class average is 81.7\n"
     ]
    }
   ],
   "source": [
    "#Initialization phase\n",
    "total = 0\n",
    "grade_counter = 0\n",
    "grades = [98,76,71,87,83,90,57,79,82,94]\n",
    "#Processing phase\n",
    "for grade in grades:\n",
    "    total += grade #Running sum of all grades\n",
    "    grade_counter += 1 #Keep track of grades counted \n",
    "#Termination phase\n",
    "average = total/grade_counter\n",
    "print(f'Class average is {average}')"
   ]
  },
  {
   "cell_type": "markdown",
   "id": "093fc84e-af66-43bf-9645-5d7df71af951",
   "metadata": {},
   "source": [
    "Practicing Range Functions"
   ]
  },
  {
   "cell_type": "code",
   "execution_count": 10,
   "id": "e26ba4b1-e9df-40b1-ae1e-43b7d33bd7e4",
   "metadata": {},
   "outputs": [],
   "source": [
    "for number in range (10, 0, 2): #Nothing happens because we can't increment correctly \n",
    "    print(number, end=' ')"
   ]
  },
  {
   "cell_type": "code",
   "execution_count": 11,
   "id": "e06fc65a-4b70-492d-b515-570171302224",
   "metadata": {},
   "outputs": [
    {
     "name": "stdout",
     "output_type": "stream",
     "text": [
      "Incrementing by -11\n",
      "99 88 77 66 55 44 33 22 11 0 "
     ]
    }
   ],
   "source": [
    "print(\"Incrementing by -11\")\n",
    "for number in range(99, -1, -11):\n",
    "    print(number, end=' ')"
   ]
  },
  {
   "cell_type": "code",
   "execution_count": 12,
   "id": "6d50e5d3-9363-4661-8518-f174e611769f",
   "metadata": {},
   "outputs": [
    {
     "data": {
      "text/plain": [
       "2550"
      ]
     },
     "execution_count": 12,
     "metadata": {},
     "output_type": "execute_result"
    }
   ],
   "source": [
    "total = 0\n",
    "for number in range(2, 101, 2):\n",
    "    total += number\n",
    "total"
   ]
  },
  {
   "cell_type": "markdown",
   "id": "c65b47b8-7830-45e4-adc6-6a787b672892",
   "metadata": {},
   "source": [
    "Experimenting with Break and Continue Statements"
   ]
  },
  {
   "cell_type": "code",
   "execution_count": 13,
   "id": "27f0c97c-507c-4b16-a262-29ee8faed8a4",
   "metadata": {},
   "outputs": [
    {
     "name": "stdout",
     "output_type": "stream",
     "text": [
      "0 1 2 3 4 5 6 7 8 9 "
     ]
    }
   ],
   "source": [
    "for number in range(100):\n",
    "    if number == 10:\n",
    "        break\n",
    "    print(number, end=' ')"
   ]
  },
  {
   "cell_type": "code",
   "execution_count": 14,
   "id": "e4a1bba4-ad74-4ef8-a51d-275dab2ba39c",
   "metadata": {},
   "outputs": [
    {
     "name": "stdout",
     "output_type": "stream",
     "text": [
      "0 1 2 3 4 6 7 8 9 "
     ]
    }
   ],
   "source": [
    "for number in range(10):\n",
    "    if number ==5: \n",
    "        continue\n",
    "    print(number, end=' ')"
   ]
  },
  {
   "cell_type": "markdown",
   "id": "b92dc717-2bf7-462b-9803-cd2de5560e62",
   "metadata": {},
   "source": [
    "Boolean Operator Practice:"
   ]
  },
  {
   "cell_type": "code",
   "execution_count": 15,
   "id": "277b159e-9d2a-488a-8d8d-5be769817b7e",
   "metadata": {},
   "outputs": [
    {
     "name": "stdout",
     "output_type": "stream",
     "text": [
      "Senior Female\n"
     ]
    }
   ],
   "source": [
    "gender = 'Female'\n",
    "age = 70\n",
    "if gender == 'Female' and age >=65:\n",
    "    print('Senior Female')"
   ]
  },
  {
   "cell_type": "code",
   "execution_count": 16,
   "id": "75691a2d-beed-4849-9d0a-f8fd3a69a693",
   "metadata": {},
   "outputs": [
    {
     "name": "stdout",
     "output_type": "stream",
     "text": [
      "Student gets an A\n"
     ]
    }
   ],
   "source": [
    "semester_average = 83\n",
    "final_exam = 95\n",
    "if semester_average >= 90 or final_exam >= 90:\n",
    "    print('Student gets an A')"
   ]
  },
  {
   "cell_type": "code",
   "execution_count": 17,
   "id": "2e419d0d-51e7-46c2-9780-2d2c21f38125",
   "metadata": {},
   "outputs": [
    {
     "name": "stdout",
     "output_type": "stream",
     "text": [
      "The next grade is 87\n"
     ]
    }
   ],
   "source": [
    "grade = 87\n",
    "if not grade == -1:\n",
    "    print('The next grade is', grade)"
   ]
  },
  {
   "cell_type": "markdown",
   "id": "d5e34462-1abd-41e3-a97b-8b19e5f00724",
   "metadata": {},
   "source": [
    "Practicing Algorithmic Booleans"
   ]
  },
  {
   "cell_type": "code",
   "execution_count": 18,
   "id": "21cdcf56-aa5d-49e8-87ed-1cb3994e8ea0",
   "metadata": {},
   "outputs": [
    {
     "data": {
      "text/plain": [
       "True"
      ]
     },
     "execution_count": 18,
     "metadata": {},
     "output_type": "execute_result"
    }
   ],
   "source": [
    "i = 1\n",
    "j = 2\n",
    "k = 3\n",
    "m = 2\n",
    "(i>=1) and (j<4)"
   ]
  },
  {
   "cell_type": "code",
   "execution_count": 19,
   "id": "b34eed16-aeb5-4be1-8d77-3eeabbb06104",
   "metadata": {},
   "outputs": [
    {
     "data": {
      "text/plain": [
       "False"
      ]
     },
     "execution_count": 19,
     "metadata": {},
     "output_type": "execute_result"
    }
   ],
   "source": [
    "(m<=99) and (k<m)"
   ]
  },
  {
   "cell_type": "code",
   "execution_count": 20,
   "id": "76825b64-dcaf-4e44-81e1-ac55ee886e2f",
   "metadata": {},
   "outputs": [
    {
     "data": {
      "text/plain": [
       "True"
      ]
     },
     "execution_count": 20,
     "metadata": {},
     "output_type": "execute_result"
    }
   ],
   "source": [
    "(j>=i) or (k==m)"
   ]
  },
  {
   "cell_type": "code",
   "execution_count": 21,
   "id": "3f440150-7c4e-4407-8ec5-183e873fcd78",
   "metadata": {},
   "outputs": [
    {
     "data": {
      "text/plain": [
       "False"
      ]
     },
     "execution_count": 21,
     "metadata": {},
     "output_type": "execute_result"
    }
   ],
   "source": [
    "(k + m < j) or (3-j >= k)"
   ]
  },
  {
   "cell_type": "code",
   "execution_count": 22,
   "id": "6e366590-3e7d-4e54-b8cd-690e00876247",
   "metadata": {},
   "outputs": [
    {
     "data": {
      "text/plain": [
       "False"
      ]
     },
     "execution_count": 22,
     "metadata": {},
     "output_type": "execute_result"
    }
   ],
   "source": [
    "not (k>m)"
   ]
  },
  {
   "cell_type": "markdown",
   "id": "2e7db7a9-bf40-44e4-a13d-ec521fb55d19",
   "metadata": {},
   "source": [
    "Practicing statistics functions"
   ]
  },
  {
   "cell_type": "code",
   "execution_count": 23,
   "id": "8f5c01d5-7e48-43e5-9547-778c09f8b86a",
   "metadata": {},
   "outputs": [
    {
     "data": {
      "text/plain": [
       "79.4"
      ]
     },
     "execution_count": 23,
     "metadata": {},
     "output_type": "execute_result"
    }
   ],
   "source": [
    "grades = [85, 93, 45, 89, 85]\n",
    "sum(grades) / len(grades)"
   ]
  },
  {
   "cell_type": "code",
   "execution_count": 24,
   "id": "a94db7d2-bf58-4ddf-b1fc-48be2d4eecaf",
   "metadata": {},
   "outputs": [
    {
     "name": "stdout",
     "output_type": "stream",
     "text": [
      "79.4 85 85\n"
     ]
    }
   ],
   "source": [
    "import statistics \n",
    "mean_grades = statistics.mean(grades)\n",
    "median_grades = statistics.median(grades)\n",
    "mode_grades = statistics.mode(grades)\n",
    "print(mean_grades, median_grades, mode_grades)"
   ]
  },
  {
   "cell_type": "markdown",
   "id": "23c6df81-be0d-4617-84bc-ce3545674be0",
   "metadata": {},
   "source": [
    "The following calculates statistics functions on how many songs I listen to per day over a period of two weeks. "
   ]
  },
  {
   "cell_type": "code",
   "execution_count": 25,
   "id": "21e4e0a1-59f8-4b8d-b759-de976c5c98ac",
   "metadata": {},
   "outputs": [
    {
     "name": "stdout",
     "output_type": "stream",
     "text": [
      "Number of days is: 14\n",
      "Total songs listened to: 284\n",
      "Median songs amount: 15.5\n",
      "Mean of songs: 20.285714285714285\n",
      "Mode of songs: 7\n"
     ]
    }
   ],
   "source": [
    "import statistics\n",
    "songs_per_day = [14, 35, 50, 7, 7, 23, 3, 9, 55, 22, 17, 8, 5, 29]\n",
    "number_of_days = len(songs_per_day) \n",
    "print('Number of days is:', number_of_days)\n",
    "total_songs = sum(songs_per_day)\n",
    "print('Total songs listened to:', total_songs)\n",
    "median_songs = statistics.median(songs_per_day)\n",
    "print('Median songs amount:', median_songs)\n",
    "mean_songs = statistics.mean(songs_per_day)\n",
    "print('Mean of songs:', mean_songs)\n",
    "mode_songs = statistics.mode(songs_per_day)\n",
    "print('Mode of songs:', mode_songs)"
   ]
  },
  {
   "cell_type": "code",
   "execution_count": null,
   "id": "695e9487-7d1e-4766-abc5-db893327a31b",
   "metadata": {},
   "outputs": [],
   "source": [
    "My name is Emily Zimmerman! "
   ]
  }
 ],
 "metadata": {
  "kernelspec": {
   "display_name": "Python 3 (ipykernel)",
   "language": "python",
   "name": "python3"
  },
  "language_info": {
   "codemirror_mode": {
    "name": "ipython",
    "version": 3
   },
   "file_extension": ".py",
   "mimetype": "text/x-python",
   "name": "python",
   "nbconvert_exporter": "python",
   "pygments_lexer": "ipython3",
   "version": "3.9.12"
  }
 },
 "nbformat": 4,
 "nbformat_minor": 5
}
